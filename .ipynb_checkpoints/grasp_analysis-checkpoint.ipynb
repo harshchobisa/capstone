{
 "cells": [
  {
   "cell_type": "code",
   "execution_count": 11,
   "id": "04720db0",
   "metadata": {},
   "outputs": [],
   "source": [
    "import numpy as np\n",
    "import matplotlib.pyplot as plt\n",
    "\n",
    "np.set_printoptions(suppress=True) "
   ]
  },
  {
   "cell_type": "code",
   "execution_count": 262,
   "id": "555a36ec",
   "metadata": {},
   "outputs": [],
   "source": [
    "def get_forgetting_counts(sparsity):\n",
    "    indicies = np.load('grasp_results/test_indicies_' + str(sparsity) + '.npy')\n",
    "    accuracy = np.load('grasp_results/test_accuracies_' + str(sparsity) + '.npy')\n",
    "\n",
    "#     print(indicies.shape)\n",
    "#     print(accuracy.shape)\n",
    "\n",
    "    indicies = indicies[1:]\n",
    "    accuracy = accuracy[1:]\n",
    "\n",
    "#     print(indicies.shape)\n",
    "#     print(accuracy.shape)\n",
    "\n",
    "    ind = indicies[-1]\n",
    "    acc = accuracy[-1]\n",
    "\n",
    "#     print(ind)\n",
    "#     print(acc)\n",
    "\n",
    "    accuracy_sorted = []\n",
    "    indicies_sorted = []\n",
    "\n",
    "    for epoch in range(indicies.shape[0]):\n",
    "      ind = indicies[epoch]\n",
    "      acc = accuracy[epoch]\n",
    "\n",
    "      accsorted = acc[ind.argsort()]\n",
    "      indsorted = sorted(ind)\n",
    "\n",
    "      accuracy_sorted.append(accsorted)\n",
    "      indicies_sorted.append(indsorted)\n",
    "\n",
    "    accuracy_sorted = np.array(accuracy_sorted)\n",
    "    indicies_sorted = np.array(indicies_sorted)\n",
    "\n",
    "    accuracy_sorted.shape\n",
    "\n",
    "    forgetting_counts = np.zeros(50000)\n",
    "    for example in range(indicies.shape[1]):\n",
    "      previous = None\n",
    "      count = 0\n",
    "      for epoch in range(indicies.shape[0]):\n",
    "        current = accuracy_sorted[epoch][example]\n",
    "        if previous == 1 and current == 0:\n",
    "          count += 1\n",
    "        previous = current\n",
    "      forgetting_counts[example] = count\n",
    "    \n",
    "#     print(forgetting_counts)\n",
    "\n",
    "    max_forget = max(forgetting_counts)\n",
    "    max_forget\n",
    "\n",
    "    unique, counts = np.unique(forgetting_counts, return_counts=True)\n",
    "\n",
    "#     print(np.asarray((unique, counts)).T)\n",
    "\n",
    "    all_zero = []\n",
    "    for example in range(indicies.shape[1]):\n",
    "      oneflag = False\n",
    "      for epoch in range(indicies.shape[0]):\n",
    "        current = accuracy_sorted[epoch][example]\n",
    "        if current == 1:\n",
    "          oneflag = True\n",
    "\n",
    "      if not oneflag:\n",
    "        all_zero.append(example)\n",
    "\n",
    "\n",
    "#     print(all_zero)\n",
    "#     print(len(all_zero))\n",
    "\n",
    "#     for i in all_zero:\n",
    "#       forgetting_counts[i] = 200\n",
    "    \n",
    "    return forgetting_counts, unique, counts"
   ]
  },
  {
   "cell_type": "code",
   "execution_count": 265,
   "id": "10bd0f92",
   "metadata": {},
   "outputs": [],
   "source": [
    "def get_forgetting_counts(sparsity):\n",
    "\n",
    "\n",
    "    \n",
    "#     indicies = np.array(i)\n",
    "#     accuracy = np.array(a)\n",
    "\n",
    "    indicies = np.load('grasp_results/test_indicies_' + str(sparsity) + '.npy')\n",
    "    accuracy = np.load('grasp_results/test_accuracies_' + str(sparsity) + '.npy')\n",
    "\n",
    "\n",
    "\n",
    "#     print(indicies.shape)\n",
    "#     print(accuracy.shape)\n",
    "\n",
    "    indicies = indicies[1:]\n",
    "    accuracy = accuracy[1:]\n",
    "\n",
    "#     print(indicies.shape)\n",
    "#     print(accuracy.shape)\n",
    "\n",
    "    ind = indicies[-1]\n",
    "    acc = accuracy[-1]\n",
    "\n",
    "#     print(ind)\n",
    "#     print(acc)\n",
    "\n",
    "    accuracy_sorted = []\n",
    "    indicies_sorted = []\n",
    "\n",
    "    for epoch in range(indicies.shape[0]):\n",
    "      ind = indicies[epoch]\n",
    "      acc = accuracy[epoch]\n",
    "\n",
    "      accsorted = acc[ind.argsort()]\n",
    "      indsorted = sorted(ind)\n",
    "\n",
    "      accuracy_sorted.append(accsorted)\n",
    "      indicies_sorted.append(indsorted)\n",
    "\n",
    "    accuracy_sorted = np.array(accuracy_sorted)\n",
    "    indicies_sorted = np.array(indicies_sorted)\n",
    "    \n",
    "    print(indicies_sorted[:5])\n",
    "    print(accuracy_sorted[:5])\n",
    "\n",
    "    accuracy_sorted.shape\n",
    "\n",
    "    forgetting_counts = np.zeros(50000)\n",
    "    for example in range(indicies.shape[1]):\n",
    "      previous = None\n",
    "      count = 0\n",
    "      for epoch in range(indicies.shape[0]):\n",
    "        current = accuracy_sorted[epoch][example]\n",
    "        if previous == 1 and current == 0:\n",
    "          count += 1\n",
    "        previous = current\n",
    "      forgetting_counts[example] = count\n",
    "\n",
    "    print(np.sum(accuracy_sorted[199])/50000)\n",
    "\n",
    "    print(forgetting_counts[:5])\n",
    "\n",
    "    max_forget = max(forgetting_counts)\n",
    "    max_forget\n",
    "\n",
    "    unique, counts = np.unique(forgetting_counts, return_counts=True)\n",
    "\n",
    "#     print(np.asarray((unique, counts)).T)\n",
    "\n",
    "    all_zero = []\n",
    "    for example in range(indicies.shape[1]):\n",
    "      oneflag = False\n",
    "      for epoch in range(indicies.shape[0]):\n",
    "        current = accuracy_sorted[epoch][example]\n",
    "        if current == 1:\n",
    "          oneflag = True\n",
    "\n",
    "      if not oneflag:\n",
    "        all_zero.append(example)\n",
    "\n",
    "\n",
    "#     print(all_zero)\n",
    "#     print(len(all_zero))\n",
    "\n",
    "    for i in all_zero:\n",
    "      forgetting_counts[i] = 200\n",
    "    \n",
    "    return forgetting_counts, unique, counts"
   ]
  },
  {
   "cell_type": "code",
   "execution_count": 246,
   "id": "4daa3994",
   "metadata": {},
   "outputs": [],
   "source": [
    "sample_indicies = [[4, 2, 3, 1, 0, 5], [4, 2, 3, 1, 0, 5],[4, 2, 3, 1, 0, 5],[4, 2, 3, 1, 0, 5]]\n",
    "sample_accuracy = [[0, 0, 0, 0, 0, 0], [1, 1, 1, 0, 1, 1],[1, 1, 1, 0, 1, 0],[1, 1, 1, 0, 1, 1]]"
   ]
  },
  {
   "cell_type": "code",
   "execution_count": 247,
   "id": "70862d7a",
   "metadata": {},
   "outputs": [
    {
     "name": "stdout",
     "output_type": "stream",
     "text": [
      "[[0 1 2 3 4 5]\n",
      " [0 1 2 3 4 5]\n",
      " [0 1 2 3 4 5]]\n",
      "[[1 0 1 1 1 1]\n",
      " [1 0 1 1 1 0]\n",
      " [1 0 1 1 1 1]]\n",
      "[0. 0. 0. 0. 0. 1.]\n",
      "[  0. 200.   0.   0.   0.   1.] [0. 1.] [5 1]\n"
     ]
    }
   ],
   "source": [
    "forgetting_counts, unique, counts = get_forgetting_counts(sample_indicies, sample_accuracy)"
   ]
  },
  {
   "cell_type": "code",
   "execution_count": 248,
   "id": "b9bf7a72",
   "metadata": {},
   "outputs": [],
   "source": [
    "sample_indicies = [[4, 2, 3, 1, 0, 5], [4, 2, 3, 5, 0, 1],[4, 2, 3, 5, 0, 1],[4, 2, 3, 5, 0, 1]]\n",
    "sample_accuracy = [[0, 0, 0, 0, 0, 0], [1, 1, 1, 1, 1, 0],[1, 1, 1, 0, 1, 0],[1, 1, 1, 1, 1, 0]]"
   ]
  },
  {
   "cell_type": "code",
   "execution_count": 249,
   "id": "be106824",
   "metadata": {},
   "outputs": [
    {
     "name": "stdout",
     "output_type": "stream",
     "text": [
      "[[0 1 2 3 4 5]\n",
      " [0 1 2 3 4 5]\n",
      " [0 1 2 3 4 5]]\n",
      "[[1 0 1 1 1 1]\n",
      " [1 0 1 1 1 0]\n",
      " [1 0 1 1 1 1]]\n",
      "[0. 0. 0. 0. 0. 1.]\n",
      "[  0. 200.   0.   0.   0.   1.] [0. 1.] [5 1]\n"
     ]
    }
   ],
   "source": [
    "forgetting_counts, unique, counts = get_forgetting_counts(sample_indicies, sample_accuracy)"
   ]
  },
  {
   "cell_type": "code",
   "execution_count": 44,
   "id": "8e54bbbe",
   "metadata": {},
   "outputs": [
    {
     "name": "stdout",
     "output_type": "stream",
     "text": [
      "[]\n"
     ]
    }
   ],
   "source": [
    "unique, counts = np.unique(all_zero, return_counts=True)\n",
    "\n",
    "print(np.asarray((unique, counts)).T)"
   ]
  },
  {
   "cell_type": "code",
   "execution_count": 45,
   "id": "2a3e389b",
   "metadata": {},
   "outputs": [],
   "source": [
    "eightfive = forgetting_counts"
   ]
  },
  {
   "cell_type": "code",
   "execution_count": 19,
   "id": "d2f4a652",
   "metadata": {},
   "outputs": [],
   "source": [
    "ninefive = forgetting_counts"
   ]
  },
  {
   "cell_type": "code",
   "execution_count": 18,
   "id": "74d1b06a",
   "metadata": {},
   "outputs": [
    {
     "name": "stdout",
     "output_type": "stream",
     "text": [
      "[[    0.  1224.]\n",
      " [    1.  4422.]\n",
      " [    2.  8293.]\n",
      " [    3. 10282.]\n",
      " [    4.  9643.]\n",
      " [    5.  7295.]\n",
      " [    6.  4562.]\n",
      " [    7.  2406.]\n",
      " [    8.  1158.]\n",
      " [    9.   461.]\n",
      " [   10.   171.]\n",
      " [   11.    51.]\n",
      " [   12.    23.]\n",
      " [   13.     5.]\n",
      " [   14.     1.]\n",
      " [   15.     1.]\n",
      " [   16.     2.]]\n"
     ]
    }
   ],
   "source": [
    "unique, counts = np.unique(eightfive, return_counts=True)\n",
    "\n",
    "print(np.asarray((unique, counts)).T)"
   ]
  },
  {
   "cell_type": "code",
   "execution_count": 29,
   "id": "81effded",
   "metadata": {},
   "outputs": [],
   "source": [
    "ninety = forgetting_counts"
   ]
  },
  {
   "cell_type": "code",
   "execution_count": 56,
   "id": "a03a7375",
   "metadata": {},
   "outputs": [
    {
     "name": "stdout",
     "output_type": "stream",
     "text": [
      "[]\n",
      "0\n"
     ]
    },
    {
     "data": {
      "image/png": "[encoded data removed]",
      "text/plain": [
       "<Figure size 432x288 with 1 Axes>"
      ]
     },
     "metadata": {
      "needs_background": "light"
     },
     "output_type": "display_data"
    }
   ],
   "source": [
    "forgetting_counts, unique, counts = get_forgetting_counts(85)\n",
    "\n",
    "plt.bar(unique, counts)\n",
    "plt.xlabel('forgettability count')\n",
    "plt.ylabel('number of examples')\n",
    "plt.title('Forgettability Counts of CIFAR10')\n",
    "plt.savefig(\"one.jpeg\")\n",
    "\n",
    "\n",
    "plt.show()"
   ]
  },
  {
   "cell_type": "code",
   "execution_count": 55,
   "id": "517f945d",
   "metadata": {},
   "outputs": [
    {
     "name": "stdout",
     "output_type": "stream",
     "text": [
      "[725, 862, 1569, 2130, 2164, 4634, 4960, 4973, 4987, 5097, 5347, 5729, 8256, 8768, 8929, 9235, 10080, 11187, 11453, 11710, 14187, 14987, 15493, 16363, 16389, 16663, 16891, 17305, 18310, 20101, 20514, 21279, 21538, 21645, 23588, 24461, 24919, 25095, 25584, 26287, 27383, 29302, 30523, 30814, 31017, 32130, 32208, 32255, 33414, 33931, 34226, 36288, 38882, 39860, 40389, 40467, 40904, 41737, 42401, 42505, 43071, 43283, 43493, 44110, 46697]\n",
      "65\n"
     ]
    },
    {
     "data": {
      "image/png": "[encoded data removed]",
      "text/plain": [
       "<Figure size 432x288 with 1 Axes>"
      ]
     },
     "metadata": {
      "needs_background": "light"
     },
     "output_type": "display_data"
    }
   ],
   "source": [
    "forgetting_counts, unique, counts = get_forgetting_counts(98)\n",
    "\n",
    "plt.bar(unique, counts)\n",
    "plt.xlabel('forgettability count')\n",
    "plt.ylabel('number of examples')\n",
    "plt.title('Forgettability Counts of CIFAR10')\n",
    "plt.savefig(\"one.jpeg\")\n",
    "\n",
    "\n",
    "plt.show()"
   ]
  },
  {
   "cell_type": "code",
   "execution_count": 266,
   "id": "7aa5c863",
   "metadata": {},
   "outputs": [
    {
     "name": "stdout",
     "output_type": "stream",
     "text": [
      "[[    0.     1.     2. ... 49997. 49998. 49999.]\n",
      " [    0.     1.     2. ... 49997. 49998. 49999.]\n",
      " [    0.     1.     2. ... 49997. 49998. 49999.]\n",
      " [    0.     1.     2. ... 49997. 49998. 49999.]\n",
      " [    0.     1.     2. ... 49997. 49998. 49999.]]\n",
      "[[0. 1. 1. ... 0. 0. 1.]\n",
      " [1. 0. 0. ... 1. 0. 1.]\n",
      " [0. 0. 1. ... 1. 1. 1.]\n",
      " [1. 1. 1. ... 1. 0. 1.]\n",
      " [0. 1. 1. ... 1. 1. 1.]]\n",
      "0.81556\n",
      "[32.  1. 25.  2.  2.]\n",
      "[[    0.     1.     2. ... 49997. 49998. 49999.]\n",
      " [    0.     1.     2. ... 49997. 49998. 49999.]\n",
      " [    0.     1.     2. ... 49997. 49998. 49999.]\n",
      " [    0.     1.     2. ... 49997. 49998. 49999.]\n",
      " [    0.     1.     2. ... 49997. 49998. 49999.]]\n",
      "[[0. 0. 1. ... 1. 0. 0.]\n",
      " [1. 0. 1. ... 1. 1. 1.]\n",
      " [0. 1. 1. ... 1. 1. 0.]\n",
      " [0. 1. 1. ... 1. 0. 0.]\n",
      " [0. 1. 0. ... 1. 1. 0.]]\n",
      "0.93888\n",
      "[8. 0. 4. 0. 0.]\n",
      "[[    0.     1.     2. ... 49997. 49998. 49999.]\n",
      " [    0.     1.     2. ... 49997. 49998. 49999.]\n",
      " [    0.     1.     2. ... 49997. 49998. 49999.]\n",
      " [    0.     1.     2. ... 49997. 49998. 49999.]\n",
      " [    0.     1.     2. ... 49997. 49998. 49999.]]\n",
      "[[1. 0. 1. ... 0. 0. 0.]\n",
      " [1. 1. 1. ... 1. 0. 0.]\n",
      " [0. 1. 0. ... 1. 1. 1.]\n",
      " [1. 1. 1. ... 1. 1. 0.]\n",
      " [1. 1. 1. ... 1. 1. 0.]]\n",
      "0.99858\n",
      "[4. 0. 3. 0. 0.]\n"
     ]
    }
   ],
   "source": [
    "forgetting_counts_one, unique_one, counts_one = get_forgetting_counts(995)\n",
    "forgetting_counts_two, unique_two, counts_two = get_forgetting_counts(98)\n",
    "forgetting_counts_three, unique_three, counts_three = get_forgetting_counts(85)"
   ]
  },
  {
   "cell_type": "code",
   "execution_count": 63,
   "id": "5f2e8ee4",
   "metadata": {},
   "outputs": [
    {
     "name": "stdout",
     "output_type": "stream",
     "text": [
      "43\n"
     ]
    }
   ],
   "source": [
    "print(len(unique_three))"
   ]
  },
  {
   "cell_type": "code",
   "execution_count": 66,
   "id": "fbe43e74",
   "metadata": {},
   "outputs": [
    {
     "name": "stdout",
     "output_type": "stream",
     "text": [
      "[61] 63.0\n",
      "[58, 59, 60, 61] 57.0\n",
      "[43, 44, 45, 46, 47, 48, 49, 50, 51, 52, 53, 54, 55, 56, 57, 58, 59, 60, 61] 42.0\n"
     ]
    }
   ],
   "source": [
    "one = []\n",
    "two = []\n",
    "three = []\n",
    "\n",
    "\n",
    "for i in range(len(unique_one)):\n",
    "    if i not in unique_one:\n",
    "        one.append(i)\n",
    "        \n",
    "    if i not in unique_two:\n",
    "        two.append(i)\n",
    "        \n",
    "    if i not in unique_three:\n",
    "        three.append(i)\n",
    "\n",
    "\n",
    "print(one, max(unique_one))\n",
    "print(two, max(unique_two))\n",
    "print(three, max(unique_three))"
   ]
  },
  {
   "cell_type": "code",
   "execution_count": 189,
   "id": "152c8866",
   "metadata": {},
   "outputs": [],
   "source": [
    "while len(unique_one) != len(counts_two):\n",
    "    counts_two = np.append(counts_two, [0])\n",
    "\n",
    "while len(unique_one) != len(counts_three):\n",
    "    counts_three = np.append(counts_three, [0])\n",
    "\n"
   ]
  },
  {
   "cell_type": "code",
   "execution_count": 190,
   "id": "9605e5b7",
   "metadata": {},
   "outputs": [
    {
     "name": "stdout",
     "output_type": "stream",
     "text": [
      "[17896  6563  3628  2406  1888  1544  1275  1139  1004   920   842   819\n",
      "   754   704   637   667   670   639   620   594   589   610   512   557\n",
      "   454   419   369   336   261   200   161   104    72    44    39    24\n",
      "    17     8     5     4     3     2     1     0     0     0     0     0\n",
      "     0     0     0     0     0     0     0     0     0     0     0     0\n",
      "     0     0     0     0]\n"
     ]
    }
   ],
   "source": [
    "print(counts_three)"
   ]
  },
  {
   "cell_type": "code",
   "execution_count": null,
   "id": "c1eb54b1",
   "metadata": {},
   "outputs": [],
   "source": []
  },
  {
   "cell_type": "code",
   "execution_count": 191,
   "id": "a02ba235",
   "metadata": {},
   "outputs": [
    {
     "data": {
      "image/png": "[encoded data removed]",
      "text/plain": [
       "<Figure size 1440x576 with 1 Axes>"
      ]
     },
     "metadata": {
      "needs_background": "light"
     },
     "output_type": "display_data"
    }
   ],
   "source": [
    "from matplotlib.figure import Figure\n",
    "from matplotlib.ticker import MaxNLocator\n",
    "import math\n",
    "\n",
    "x_axis = np.arange(len(unique_one))\n",
    "plt.rcParams[\"figure.figsize\"] = (20,8)\n",
    "\n",
    "width = 0.25\n",
    "\n",
    "plt.yscale(\"log\")\n",
    "plt.bar(x_axis - width, counts_three, width=width, label = '85% Sparsity')\n",
    "plt.bar(x_axis, counts_two, width=width, label = '98% Sparsity')\n",
    "plt.bar(x_axis + width, counts_one, width=width, label = '99.5% Sparsity')\n",
    "\n",
    "# plt.xticks(x_axis.astype(int), unique_one)\n",
    "# plt.gca().xaxis.set_major_locator(MaxNLocator(integer=True))\n",
    "\n",
    "new_list = range(math.floor(min(unique_one)), math.ceil(max(unique_one))+1)\n",
    "plt.xticks(new_list)\n",
    "\n",
    "plt.legend()\n",
    "\n",
    "plt.xlabel('forgettability count')\n",
    "plt.ylabel('number of examples')\n",
    "plt.title('Forgettability Distribution of Examples from GRaSP ')\n",
    "plt.savefig(\"grasp.jpeg\")\n",
    "\n",
    "\n",
    "plt.show()\n",
    "\n"
   ]
  },
  {
   "cell_type": "code",
   "execution_count": 192,
   "id": "0a97aa77",
   "metadata": {},
   "outputs": [
    {
     "data": {
      "image/png": "[encoded data removed]",
      "text/plain": [
       "<Figure size 1440x576 with 2 Axes>"
      ]
     },
     "metadata": {
      "needs_background": "light"
     },
     "output_type": "display_data"
    }
   ],
   "source": [
    "import numpy as np\n",
    "import matplotlib.pyplot as plt\n",
    "\n",
    "# Now let's make two outlier points which are far away from everything.\n",
    "\n",
    "# If we were to simply plot pts, we'd lose most of the interesting\n",
    "# details due to the outliers. So let's 'break' or 'cut-out' the y-axis\n",
    "# into two portions - use the top (ax1) for the outliers, and the bottom\n",
    "# (ax2) for the details of the majority of our data\n",
    "fig, (ax1, ax2) = plt.subplots(2, 1, sharex=True)\n",
    "fig.subplots_adjust(hspace=0.05)  # adjust space between axes\n",
    "\n",
    "# plot the same data on both axes\n",
    "\n",
    "ax1.bar(x_axis - width, counts_three, width=width, label = '85% Sparsity')\n",
    "ax1.bar(x_axis, counts_two, width=width, label = '98% Sparsity')\n",
    "ax1.bar(x_axis + width, counts_one, width=width, label = '99.5% Sparsity')\n",
    "ax2.bar(x_axis - width, counts_three, width=width, label = '85% Sparsity')\n",
    "ax2.bar(x_axis, counts_two, width=width, label = '98% Sparsity')\n",
    "ax2.bar(x_axis + width, counts_one, width=width, label = '99.5% Sparsity')\n",
    "\n",
    "# zoom-in / limit the view to different portions of the data\n",
    "ax1.set_ylim(13000, 19000)  # outliers only\n",
    "ax2.set_ylim(0, 7500)  # most of the data\n",
    "\n",
    "# hide the spines between ax and ax2\n",
    "# ax1.spines.bottom.set_visible(False)\n",
    "# ax2.spines.top.set_visible(False)\n",
    "ax1.xaxis.tick_top()\n",
    "ax1.tick_params(labeltop=False)  # don't put tick labels at the top\n",
    "ax2.xaxis.tick_bottom()\n",
    "\n",
    "# Now, let's turn towards the cut-out slanted lines.\n",
    "# We create line objects in axes coordinates, in which (0,0), (0,1),\n",
    "# (1,0), and (1,1) are the four corners of the axes.\n",
    "# The slanted lines themselves are markers at those locations, such that the\n",
    "# lines keep their angle and position, independent of the axes size or scale\n",
    "# Finally, we need to disable clipping.\n",
    "\n",
    "d = .5  # proportion of vertical to horizontal extent of the slanted line\n",
    "kwargs = dict(marker=[(-1, -d), (1, d)], markersize=12,\n",
    "              linestyle=\"none\", color='k', mec='k', mew=1, clip_on=False)\n",
    "ax1.plot([0, 1], [0, 0], transform=ax1.transAxes, **kwargs)\n",
    "ax2.plot([0, 1], [1, 1], transform=ax2.transAxes, **kwargs)\n",
    "\n",
    "ax1.legend()\n",
    "\n",
    "ax1.yaxis.set_label_coords(-0.04,0.05)\n",
    "plt.xlabel('forgettability count')\n",
    "ax1.set_ylabel('number of examples')\n",
    "ax1.set_title('Forgettability Distribution of Examples from GRaSP ')\n",
    "plt.savefig(\"grasp.jpeg\")\n",
    "\n",
    "plt.show()"
   ]
  },
  {
   "cell_type": "code",
   "execution_count": 168,
   "id": "39db2dc4",
   "metadata": {},
   "outputs": [
    {
     "data": {
      "text/plain": [
       "62"
      ]
     },
     "execution_count": 168,
     "metadata": {},
     "output_type": "execute_result"
    }
   ],
   "source": [
    "len(counts_three)\n",
    "len(counts_three)\n",
    "len(counts_three)"
   ]
  },
  {
   "cell_type": "code",
   "execution_count": 171,
   "id": "2d513fa4",
   "metadata": {},
   "outputs": [
    {
     "data": {
      "text/plain": [
       "42.0"
      ]
     },
     "execution_count": 171,
     "metadata": {},
     "output_type": "execute_result"
    }
   ],
   "source": [
    "max(unique_three)"
   ]
  },
  {
   "cell_type": "code",
   "execution_count": 188,
   "id": "112742ce",
   "metadata": {},
   "outputs": [
    {
     "name": "stdout",
     "output_type": "stream",
     "text": [
      "[0.0, 1.0, 2.0, 3.0, 4.0, 5.0, 6.0, 7.0, 8.0, 9.0, 10.0, 11.0, 12.0, 13.0, 14.0, 15.0, 16.0, 17.0, 18.0, 19.0, 20.0, 21.0, 22.0, 23.0, 24.0, 25.0, 26.0, 27.0, 28.0, 29.0, 30.0, 31.0, 32.0, 33.0, 34.0, 35.0, 36.0, 37.0, 38.0, 39.0, 40.0, 41.0, 42.0, 43.0, 44.0, 45.0, 46.0, 47.0, 48.0, 49.0, 50.0, 51.0, 52.0, 53.0, 54.0, 55.0, 56.0, 57.0, 58.0, 59.0, 60.0, 61.0, 62.0, 63.0]\n",
      "[7188, 4104, 2603, 2009, 1674, 1480, 1303, 1131, 1132, 996, 979, 909, 828, 797, 789, 799, 822, 754, 737, 726, 679, 701, 713, 707, 595, 635, 623, 594, 626, 609, 647, 579, 600, 602, 598, 628, 622, 642, 626, 575, 634, 619, 602, 574, 584, 521, 457, 401, 322, 296, 202, 163, 104, 85, 32, 21, 8, 6, 3, 2, 2, 0, 0, 1]\n"
     ]
    }
   ],
   "source": [
    "print(unique_one)\n",
    "print(counts_one)"
   ]
  },
  {
   "cell_type": "code",
   "execution_count": 180,
   "id": "36f2fee4",
   "metadata": {},
   "outputs": [],
   "source": [
    "unique_one = sorted(np.append(unique_one, [61, 62]))"
   ]
  },
  {
   "cell_type": "code",
   "execution_count": 182,
   "id": "864b449a",
   "metadata": {},
   "outputs": [],
   "source": [
    "counts_one = list(counts_one)"
   ]
  },
  {
   "cell_type": "code",
   "execution_count": 183,
   "id": "253e361c",
   "metadata": {},
   "outputs": [
    {
     "data": {
      "text/plain": [
       "1"
      ]
     },
     "execution_count": 183,
     "metadata": {},
     "output_type": "execute_result"
    }
   ],
   "source": [
    "counts_one.pop()"
   ]
  },
  {
   "cell_type": "code",
   "execution_count": 187,
   "id": "faf84fe2",
   "metadata": {},
   "outputs": [],
   "source": [
    "counts_one.append(1)"
   ]
  },
  {
   "cell_type": "code",
   "execution_count": 200,
   "id": "42fabafe",
   "metadata": {},
   "outputs": [
    {
     "name": "stdout",
     "output_type": "stream",
     "text": [
      "Pearsons correlation: 0.739\n"
     ]
    }
   ],
   "source": [
    "# calculate the Pearson's correlation between two variables\n",
    "from numpy.random import randn\n",
    "from numpy.random import seed\n",
    "from scipy.stats import pearsonr\n",
    "# seed random number generator\n",
    "seed(1)\n",
    "# prepare data\n",
    "data1 = forgetting_counts_two\n",
    "data2 = forgetting_counts_three\n",
    "# calculate Pearson's correlation\n",
    "corr, _ = pearsonr(data1, data2)\n",
    "print('Pearsons correlation: %.3f' % corr)"
   ]
  },
  {
   "cell_type": "code",
   "execution_count": 196,
   "id": "54a33f8d",
   "metadata": {},
   "outputs": [
    {
     "ename": "NameError",
     "evalue": "name 'large_forgetting_counts' is not defined",
     "output_type": "error",
     "traceback": [
      "\u001b[0;31m---------------------------------------------------------------------------\u001b[0m",
      "\u001b[0;31mNameError\u001b[0m                                 Traceback (most recent call last)",
      "\u001b[0;32m<ipython-input-196-5d9ec885c1a4>\u001b[0m in \u001b[0;36m<module>\u001b[0;34m\u001b[0m\n\u001b[0;32m----> 1\u001b[0;31m \u001b[0mlarge_forgetting_counts\u001b[0m\u001b[0;34m\u001b[0m\u001b[0;34m\u001b[0m\u001b[0m\n\u001b[0m",
      "\u001b[0;31mNameError\u001b[0m: name 'large_forgetting_counts' is not defined"
     ]
    }
   ],
   "source": [
    "large_forgetting_counts"
   ]
  },
  {
   "cell_type": "code",
   "execution_count": 259,
   "id": "9acd6978",
   "metadata": {},
   "outputs": [],
   "source": [
    "import pandas as pd\n",
    "\n",
    "d = pd.DataFrame()"
   ]
  },
  {
   "cell_type": "code",
   "execution_count": 260,
   "id": "8ec3deda",
   "metadata": {},
   "outputs": [],
   "source": [
    "d['85'] = forgetting_counts_three\n",
    "d['98'] = forgetting_counts_two\n",
    "d['99.5'] = forgetting_counts_one"
   ]
  },
  {
   "cell_type": "code",
   "execution_count": 261,
   "id": "7d176ebe",
   "metadata": {},
   "outputs": [
    {
     "data": {
      "text/html": [
       "<div>\n",
       "<style scoped>\n",
       "    .dataframe tbody tr th:only-of-type {\n",
       "        vertical-align: middle;\n",
       "    }\n",
       "\n",
       "    .dataframe tbody tr th {\n",
       "        vertical-align: top;\n",
       "    }\n",
       "\n",
       "    .dataframe thead th {\n",
       "        text-align: right;\n",
       "    }\n",
       "</style>\n",
       "<table border=\"1\" class=\"dataframe\">\n",
       "  <thead>\n",
       "    <tr style=\"text-align: right;\">\n",
       "      <th></th>\n",
       "      <th>85</th>\n",
       "      <th>98</th>\n",
       "      <th>99.5</th>\n",
       "    </tr>\n",
       "  </thead>\n",
       "  <tbody>\n",
       "    <tr>\n",
       "      <th>0</th>\n",
       "      <td>4.0</td>\n",
       "      <td>8.0</td>\n",
       "      <td>32.0</td>\n",
       "    </tr>\n",
       "    <tr>\n",
       "      <th>1</th>\n",
       "      <td>0.0</td>\n",
       "      <td>0.0</td>\n",
       "      <td>1.0</td>\n",
       "    </tr>\n",
       "    <tr>\n",
       "      <th>2</th>\n",
       "      <td>3.0</td>\n",
       "      <td>4.0</td>\n",
       "      <td>25.0</td>\n",
       "    </tr>\n",
       "    <tr>\n",
       "      <th>3</th>\n",
       "      <td>0.0</td>\n",
       "      <td>0.0</td>\n",
       "      <td>2.0</td>\n",
       "    </tr>\n",
       "    <tr>\n",
       "      <th>4</th>\n",
       "      <td>0.0</td>\n",
       "      <td>0.0</td>\n",
       "      <td>2.0</td>\n",
       "    </tr>\n",
       "    <tr>\n",
       "      <th>...</th>\n",
       "      <td>...</td>\n",
       "      <td>...</td>\n",
       "      <td>...</td>\n",
       "    </tr>\n",
       "    <tr>\n",
       "      <th>49995</th>\n",
       "      <td>12.0</td>\n",
       "      <td>14.0</td>\n",
       "      <td>200.0</td>\n",
       "    </tr>\n",
       "    <tr>\n",
       "      <th>49996</th>\n",
       "      <td>31.0</td>\n",
       "      <td>28.0</td>\n",
       "      <td>37.0</td>\n",
       "    </tr>\n",
       "    <tr>\n",
       "      <th>49997</th>\n",
       "      <td>19.0</td>\n",
       "      <td>29.0</td>\n",
       "      <td>44.0</td>\n",
       "    </tr>\n",
       "    <tr>\n",
       "      <th>49998</th>\n",
       "      <td>0.0</td>\n",
       "      <td>2.0</td>\n",
       "      <td>2.0</td>\n",
       "    </tr>\n",
       "    <tr>\n",
       "      <th>49999</th>\n",
       "      <td>20.0</td>\n",
       "      <td>45.0</td>\n",
       "      <td>48.0</td>\n",
       "    </tr>\n",
       "  </tbody>\n",
       "</table>\n",
       "<p>50000 rows × 3 columns</p>\n",
       "</div>"
      ],
      "text/plain": [
       "         85    98   99.5\n",
       "0       4.0   8.0   32.0\n",
       "1       0.0   0.0    1.0\n",
       "2       3.0   4.0   25.0\n",
       "3       0.0   0.0    2.0\n",
       "4       0.0   0.0    2.0\n",
       "...     ...   ...    ...\n",
       "49995  12.0  14.0  200.0\n",
       "49996  31.0  28.0   37.0\n",
       "49997  19.0  29.0   44.0\n",
       "49998   0.0   2.0    2.0\n",
       "49999  20.0  45.0   48.0\n",
       "\n",
       "[50000 rows x 3 columns]"
      ]
     },
     "execution_count": 261,
     "metadata": {},
     "output_type": "execute_result"
    }
   ],
   "source": [
    "d"
   ]
  },
  {
   "cell_type": "code",
   "execution_count": 269,
   "id": "de37ef94",
   "metadata": {},
   "outputs": [
    {
     "data": {
      "text/plain": [
       "138.58492"
      ]
     },
     "execution_count": 269,
     "metadata": {},
     "output_type": "execute_result"
    }
   ],
   "source": [
    "from sklearn.metrics import mean_squared_error\n",
    "\n",
    "mean_squared_error(d['85'],d['98'])"
   ]
  },
  {
   "cell_type": "code",
   "execution_count": null,
   "id": "d0ce2ff2",
   "metadata": {},
   "outputs": [],
   "source": []
  }
 ],
 "metadata": {
  "kernelspec": {
   "display_name": "Python 3",
   "language": "python",
   "name": "python3"
  },
  "language_info": {
   "codemirror_mode": {
    "name": "ipython",
    "version": 3
   },
   "file_extension": ".py",
   "mimetype": "text/x-python",
   "name": "python",
   "nbconvert_exporter": "python",
   "pygments_lexer": "ipython3",
   "version": "3.7.9"
  }
 },
 "nbformat": 4,
 "nbformat_minor": 5
}
