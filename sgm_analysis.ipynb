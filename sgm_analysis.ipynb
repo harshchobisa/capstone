{
 "cells": [
  {
   "cell_type": "code",
   "execution_count": 3,
   "id": "04720db0",
   "metadata": {},
   "outputs": [],
   "source": [
    "import numpy as np\n",
    "import matplotlib.pyplot as plt\n",
    "\n",
    "np.set_printoptions(suppress=True) "
   ]
  },
  {
   "cell_type": "code",
   "execution_count": 70,
   "id": "555a36ec",
   "metadata": {},
   "outputs": [],
   "source": [
    "def get_forgetting_counts(sparsity):\n",
    "    indicies = np.load('sgm_results/test_indicies' + str(sparsity) + '.npy')\n",
    "    accuracy = np.load('sgm_results/test_accuracies' + str(sparsity) + '.npy')\n",
    "\n",
    "#     print(indicies.shape)\n",
    "#     print(accuracy.shape)\n",
    "\n",
    "    indicies = indicies[1:]\n",
    "    accuracy = accuracy[1:]\n",
    "\n",
    "#     print(indicies.shape)\n",
    "#     print(accuracy.shape)\n",
    "\n",
    "    ind = indicies[-1]\n",
    "    acc = accuracy[-1]\n",
    "\n",
    "#     print(ind)\n",
    "#     print(acc)\n",
    "\n",
    "    accuracy_sorted = []\n",
    "    indicies_sorted = []\n",
    "\n",
    "    for epoch in range(indicies.shape[0]):\n",
    "      ind = indicies[epoch]\n",
    "      acc = accuracy[epoch]\n",
    "\n",
    "      accsorted = acc[ind.argsort()]\n",
    "      indsorted = sorted(ind)\n",
    "\n",
    "      accuracy_sorted.append(accsorted)\n",
    "      indicies_sorted.append(indsorted)\n",
    "\n",
    "    accuracy_sorted = np.array(accuracy_sorted)\n",
    "    indicies_sorted = np.array(indicies_sorted)\n",
    "\n",
    "    accuracy_sorted.shape\n",
    "\n",
    "    forgetting_counts = np.zeros(50000)\n",
    "    for example in range(indicies.shape[1]):\n",
    "      previous = None\n",
    "      count = 0\n",
    "      for epoch in range(indicies.shape[0]):\n",
    "        current = accuracy_sorted[epoch][example]\n",
    "        if previous == 1 and current == 0:\n",
    "          count += 1\n",
    "        previous = current\n",
    "      forgetting_counts[example] = count\n",
    "    \n",
    "#     print(forgetting_counts)\n",
    "\n",
    "    max_forget = max(forgetting_counts)\n",
    "    max_forget\n",
    "\n",
    "    unique, counts = np.unique(forgetting_counts, return_counts=True)\n",
    "\n",
    "#     print(np.asarray((unique, counts)).T)\n",
    "\n",
    "    all_zero = []\n",
    "    for example in range(indicies.shape[1]):\n",
    "      oneflag = False\n",
    "      for epoch in range(indicies.shape[0]):\n",
    "        current = accuracy_sorted[epoch][example]\n",
    "        if current == 1:\n",
    "          oneflag = True\n",
    "\n",
    "      if not oneflag:\n",
    "        all_zero.append(example)\n",
    "\n",
    "\n",
    "#     print(all_zero)\n",
    "#     print(len(all_zero))\n",
    "\n",
    "    for i in all_zero:\n",
    "      forgetting_counts[i] = 200\n",
    "    \n",
    "    all_one = []\n",
    "    for example in range(indicies.shape[1]):\n",
    "      zeroflag = False\n",
    "      for epoch in range(indicies.shape[0]):\n",
    "        current = accuracy_sorted[epoch][example]\n",
    "        if current == 0:\n",
    "          zeroflag = True\n",
    "\n",
    "      if not oneflag:\n",
    "        all_one.append(example)\n",
    "    \n",
    "\n",
    "    print(all_one)\n",
    "    print(len(all_one))\n",
    "\n",
    "    for i in all_zero:\n",
    "      forgetting_counts[i] = 200\n",
    "    \n",
    "    \n",
    "    for i in all_one:\n",
    "      forgetting_counts[i] = -1\n",
    "    \n",
    "    return forgetting_counts, unique, counts"
   ]
  },
  {
   "cell_type": "code",
   "execution_count": 75,
   "id": "7aa5c863",
   "metadata": {},
   "outputs": [
    {
     "name": "stdout",
     "output_type": "stream",
     "text": [
      "[]\n",
      "0\n",
      "[]\n",
      "0\n",
      "[]\n",
      "0\n"
     ]
    }
   ],
   "source": [
    "forgetting_counts_one, unique_one, counts_one = get_forgetting_counts(0.1)\n",
    "forgetting_counts_two, unique_two, counts_two = get_forgetting_counts(0.125)\n",
    "forgetting_counts_three, unique_three, counts_three = get_forgetting_counts(0.15)"
   ]
  },
  {
   "cell_type": "code",
   "execution_count": 76,
   "id": "4f2c7529",
   "metadata": {},
   "outputs": [
    {
     "name": "stdout",
     "output_type": "stream",
     "text": [
      "[]\n",
      "0\n",
      "[]\n",
      "0\n"
     ]
    }
   ],
   "source": [
    "forgetting_counts_four, unique_four, counts_four = get_forgetting_counts(0.175)\n",
    "forgetting_counts_five, unique_five, counts_five = get_forgetting_counts(0.2)"
   ]
  },
  {
   "cell_type": "code",
   "execution_count": 86,
   "id": "cc0570da",
   "metadata": {},
   "outputs": [
    {
     "name": "stdout",
     "output_type": "stream",
     "text": [
      "[]\n",
      "0\n"
     ]
    }
   ],
   "source": [
    "forgetting_counts_six, unique_six, counts_six = get_forgetting_counts(0.101)\n"
   ]
  },
  {
   "cell_type": "code",
   "execution_count": 8,
   "id": "5f2e8ee4",
   "metadata": {},
   "outputs": [
    {
     "name": "stdout",
     "output_type": "stream",
     "text": [
      "17\n"
     ]
    }
   ],
   "source": [
    "print(len(unique_three))"
   ]
  },
  {
   "cell_type": "code",
   "execution_count": 69,
   "id": "21542b43",
   "metadata": {},
   "outputs": [
    {
     "name": "stdout",
     "output_type": "stream",
     "text": [
      "[ 0.  1.  2.  3.  4.  5.  6.  7.  8.  9. 10. 11. 12. 13. 14. 15. 16. 21.\n",
      " 23.]\n",
      "[ 808 3033 6590 9297 9615 8127 5710 3535 1824  845  403  120   55   21\n",
      "   12    1    1    1    2]\n"
     ]
    }
   ],
   "source": [
    "print(unique_one)\n",
    "print(counts_one)"
   ]
  },
  {
   "cell_type": "code",
   "execution_count": 19,
   "id": "fbe43e74",
   "metadata": {},
   "outputs": [
    {
     "name": "stdout",
     "output_type": "stream",
     "text": [
      "[17, 18, 19, 20, 22] 23.0\n",
      "[17, 18, 19, 20, 21, 22] 16.0\n",
      "[9, 10, 11, 12, 13, 14, 15, 16, 17, 18, 19, 20, 21, 22] 8.0\n"
     ]
    }
   ],
   "source": [
    "one_missing = []\n",
    "two_missing = []\n",
    "three_missing = []\n",
    "\n",
    "\n",
    "for i in range(int(max(unique_one))):\n",
    "    if i not in unique_one:\n",
    "        one_missing.append(i)\n",
    "        \n",
    "    if i not in unique_two:\n",
    "        two_missing.append(i)\n",
    "        \n",
    "    if i not in unique_three:\n",
    "        three_missing.append(i)\n",
    "\n",
    "\n",
    "print(one_missing, max(unique_one))\n",
    "print(two_missing, max(unique_two))\n",
    "print(three_missing, max(unique_three))"
   ]
  },
  {
   "cell_type": "code",
   "execution_count": 77,
   "id": "22db4e8f",
   "metadata": {},
   "outputs": [],
   "source": [
    "def extend_to_len(ind, count, n):\n",
    "    n = int(n)\n",
    "    new_count = [0] * (n + 1)\n",
    "    for i in range(len(ind)):\n",
    "        new_count[int(ind[i])] = count[i]\n",
    "    \n",
    "    new_ind = [*range(0, n + 1)]\n",
    "    return new_ind, new_count\n",
    "\n",
    "# print(unique_one)\n",
    "# new_ind, new_count = extend_to_len(unique_one, counts_one, max(unique_one))\n",
    "\n",
    "# print(new_ind)\n",
    "# print(new_count)"
   ]
  },
  {
   "cell_type": "code",
   "execution_count": 89,
   "id": "b5e969e2",
   "metadata": {},
   "outputs": [],
   "source": [
    "# unique_one, counts_one = extend_to_len(unique_one, counts_one, max(unique_one))\n",
    "# unique_two, counts_two = extend_to_len(unique_two, counts_two, max(unique_one))\n",
    "# unique_three, counts_three = extend_to_len(unique_three, counts_three, max(unique_one))\n",
    "# unique_four, counts_four = extend_to_len(unique_four, counts_four, max(unique_one))\n",
    "# unique_five, counts_five = extend_to_len(unique_five, counts_five, max(unique_one))\n",
    "unique_six, counts_six = extend_to_len(unique_six, counts_six, max(unique_one))"
   ]
  },
  {
   "cell_type": "code",
   "execution_count": 88,
   "id": "831205a3",
   "metadata": {},
   "outputs": [
    {
     "name": "stdout",
     "output_type": "stream",
     "text": [
      "24\n",
      "[808, 3033, 6590, 9297, 9615, 8127, 5710, 3535, 1824, 845, 403, 120, 55, 21, 12, 1, 1, 0, 0, 0, 0, 1, 0, 2]\n",
      "[15911, 18441, 10603, 3730, 1051, 218, 37, 7, 2, 0, 0, 0, 0, 0, 0, 0, 0, 0, 0, 0, 0, 0, 0, 0]\n",
      "[1224, 4422, 8293, 10282, 9643, 7295, 4562, 2406, 1158, 461, 171, 51, 23, 5, 1, 1, 2, 0, 0, 0, 0, 0, 0, 0]\n",
      "[16994, 18535, 9948, 3415, 893, 176, 34, 5, 0, 0, 0, 0, 0, 0, 0, 0, 0, 0, 0, 0, 0, 0, 0, 0]\n",
      "[17333, 18509, 9874, 3253, 838, 163, 27, 2, 1, 0, 0, 0, 0, 0, 0, 0, 0, 0, 0, 0, 0, 0, 0, 0]\n",
      "[14876 18282 10910  4347  1261   265    45    12     2]\n"
     ]
    }
   ],
   "source": [
    "print(len(unique_one))\n",
    "print(counts_one)\n",
    "print(counts_two)\n",
    "print(counts_three)\n",
    "print(counts_four)\n",
    "print(counts_five)\n",
    "print(counts_six)"
   ]
  },
  {
   "cell_type": "code",
   "execution_count": 92,
   "id": "a02ba235",
   "metadata": {},
   "outputs": [
    {
     "data": {
      "image/png": "[encoded data removed]",
      "text/plain": [
       "<Figure size 1440x576 with 1 Axes>"
      ]
     },
     "metadata": {
      "needs_background": "light"
     },
     "output_type": "display_data"
    }
   ],
   "source": [
    "from matplotlib.figure import Figure\n",
    "from matplotlib.ticker import MaxNLocator\n",
    "import math\n",
    "\n",
    "x_axis = np.arange(len(unique_one))\n",
    "plt.rcParams[\"figure.figsize\"] = (20,8)\n",
    "\n",
    "width = 0.15\n",
    "\n",
    "# plt.yscale(\"log\")\n",
    "plt.bar(x_axis - width - width, counts_five, width=width, label = '80% Sparsity')\n",
    "plt.bar(x_axis - width, counts_four, width=width, label = '82.5% Sparsity')\n",
    "plt.bar(x_axis, counts_three, width=width, label = '85% Sparsity')\n",
    "plt.bar(x_axis + width, counts_two, width=width, label = '87.5% Sparsity')\n",
    "# plt.bar(x_axis + width + width, counts_one, width=width, label = '90% Sparsity')\n",
    "plt.bar(x_axis + width, counts_six, width=width, label = '90.0000% Sparsity')\n",
    "\n",
    "\n",
    "# plt.plot(x_axis, counts_five, label = '80% Sparsity')\n",
    "# plt.plot(x_axis, counts_four, label = '82.5% Sparsity')\n",
    "# plt.plot(x_axis, counts_three, label = '85% Sparsity')\n",
    "# # plt.bar(x_axis + width, counts_two, width=width, label = '87.5% Sparsity')\n",
    "# plt.plot(x_axis, counts_one, label = '90% Sparsity')\n",
    "\n",
    "\n",
    "# plt.xticks(x_axis.astype(int), unique_one)\n",
    "# plt.gca().xaxis.set_major_locator(MaxNLocator(integer=True))\n",
    "\n",
    "new_list = range(math.floor(min(unique_one)), math.ceil(max(unique_one))+1)\n",
    "plt.xticks(new_list)\n",
    "\n",
    "plt.legend()\n",
    "\n",
    "plt.xlabel('forgettability count')\n",
    "plt.ylabel('number of examples')\n",
    "plt.title('Forgettability Distribution of Examples from GRaSP ')\n",
    "plt.savefig(\"sgm.jpeg\")\n",
    "\n",
    "\n",
    "plt.show()\n",
    "\n"
   ]
  },
  {
   "cell_type": "code",
   "execution_count": 192,
   "id": "0a97aa77",
   "metadata": {},
   "outputs": [
    {
     "data": {
      "image/png": "[encoded data removed]",
      "text/plain": [
       "<Figure size 1440x576 with 2 Axes>"
      ]
     },
     "metadata": {
      "needs_background": "light"
     },
     "output_type": "display_data"
    }
   ],
   "source": [
    "import numpy as np\n",
    "import matplotlib.pyplot as plt\n",
    "\n",
    "# Now let's make two outlier points which are far away from everything.\n",
    "\n",
    "# If we were to simply plot pts, we'd lose most of the interesting\n",
    "# details due to the outliers. So let's 'break' or 'cut-out' the y-axis\n",
    "# into two portions - use the top (ax1) for the outliers, and the bottom\n",
    "# (ax2) for the details of the majority of our data\n",
    "fig, (ax1, ax2) = plt.subplots(2, 1, sharex=True)\n",
    "fig.subplots_adjust(hspace=0.05)  # adjust space between axes\n",
    "\n",
    "# plot the same data on both axes\n",
    "\n",
    "ax1.bar(x_axis - width, counts_three, width=width, label = '85% Sparsity')\n",
    "ax1.bar(x_axis, counts_two, width=width, label = '98% Sparsity')\n",
    "ax1.bar(x_axis + width, counts_one, width=width, label = '99.5% Sparsity')\n",
    "ax2.bar(x_axis - width, counts_three, width=width, label = '85% Sparsity')\n",
    "ax2.bar(x_axis, counts_two, width=width, label = '98% Sparsity')\n",
    "ax2.bar(x_axis + width, counts_one, width=width, label = '99.5% Sparsity')\n",
    "\n",
    "# zoom-in / limit the view to different portions of the data\n",
    "ax1.set_ylim(13000, 19000)  # outliers only\n",
    "ax2.set_ylim(0, 7500)  # most of the data\n",
    "\n",
    "# hide the spines between ax and ax2\n",
    "# ax1.spines.bottom.set_visible(False)\n",
    "# ax2.spines.top.set_visible(False)\n",
    "ax1.xaxis.tick_top()\n",
    "ax1.tick_params(labeltop=False)  # don't put tick labels at the top\n",
    "ax2.xaxis.tick_bottom()\n",
    "\n",
    "# Now, let's turn towards the cut-out slanted lines.\n",
    "# We create line objects in axes coordinates, in which (0,0), (0,1),\n",
    "# (1,0), and (1,1) are the four corners of the axes.\n",
    "# The slanted lines themselves are markers at those locations, such that the\n",
    "# lines keep their angle and position, independent of the axes size or scale\n",
    "# Finally, we need to disable clipping.\n",
    "\n",
    "d = .5  # proportion of vertical to horizontal extent of the slanted line\n",
    "kwargs = dict(marker=[(-1, -d), (1, d)], markersize=12,\n",
    "              linestyle=\"none\", color='k', mec='k', mew=1, clip_on=False)\n",
    "ax1.plot([0, 1], [0, 0], transform=ax1.transAxes, **kwargs)\n",
    "ax2.plot([0, 1], [1, 1], transform=ax2.transAxes, **kwargs)\n",
    "\n",
    "ax1.legend()\n",
    "\n",
    "ax1.yaxis.set_label_coords(-0.04,0.05)\n",
    "plt.xlabel('forgettability count')\n",
    "ax1.set_ylabel('number of examples')\n",
    "ax1.set_title('Forgettability Distribution of Examples from GRaSP ')\n",
    "plt.savefig(\"grasp.jpeg\")\n",
    "\n",
    "plt.show()"
   ]
  },
  {
   "cell_type": "code",
   "execution_count": 168,
   "id": "9ec5a0cb",
   "metadata": {},
   "outputs": [
    {
     "data": {
      "text/plain": [
       "62"
      ]
     },
     "execution_count": 168,
     "metadata": {},
     "output_type": "execute_result"
    }
   ],
   "source": [
    "len(counts_three)\n",
    "len(counts_three)\n",
    "len(counts_three)"
   ]
  },
  {
   "cell_type": "code",
   "execution_count": 171,
   "id": "75d594a3",
   "metadata": {},
   "outputs": [
    {
     "data": {
      "text/plain": [
       "42.0"
      ]
     },
     "execution_count": 171,
     "metadata": {},
     "output_type": "execute_result"
    }
   ],
   "source": [
    "max(unique_three)"
   ]
  },
  {
   "cell_type": "code",
   "execution_count": 188,
   "id": "292fb1c0",
   "metadata": {},
   "outputs": [
    {
     "name": "stdout",
     "output_type": "stream",
     "text": [
      "[0.0, 1.0, 2.0, 3.0, 4.0, 5.0, 6.0, 7.0, 8.0, 9.0, 10.0, 11.0, 12.0, 13.0, 14.0, 15.0, 16.0, 17.0, 18.0, 19.0, 20.0, 21.0, 22.0, 23.0, 24.0, 25.0, 26.0, 27.0, 28.0, 29.0, 30.0, 31.0, 32.0, 33.0, 34.0, 35.0, 36.0, 37.0, 38.0, 39.0, 40.0, 41.0, 42.0, 43.0, 44.0, 45.0, 46.0, 47.0, 48.0, 49.0, 50.0, 51.0, 52.0, 53.0, 54.0, 55.0, 56.0, 57.0, 58.0, 59.0, 60.0, 61.0, 62.0, 63.0]\n",
      "[7188, 4104, 2603, 2009, 1674, 1480, 1303, 1131, 1132, 996, 979, 909, 828, 797, 789, 799, 822, 754, 737, 726, 679, 701, 713, 707, 595, 635, 623, 594, 626, 609, 647, 579, 600, 602, 598, 628, 622, 642, 626, 575, 634, 619, 602, 574, 584, 521, 457, 401, 322, 296, 202, 163, 104, 85, 32, 21, 8, 6, 3, 2, 2, 0, 0, 1]\n"
     ]
    }
   ],
   "source": [
    "print(unique_one)\n",
    "print(counts_one)"
   ]
  },
  {
   "cell_type": "code",
   "execution_count": 180,
   "id": "037f3447",
   "metadata": {},
   "outputs": [],
   "source": [
    "unique_one = sorted(np.append(unique_one, [61, 62]))"
   ]
  },
  {
   "cell_type": "code",
   "execution_count": 182,
   "id": "d3ebc860",
   "metadata": {},
   "outputs": [],
   "source": [
    "counts_one = list(counts_one)"
   ]
  },
  {
   "cell_type": "code",
   "execution_count": 183,
   "id": "48fe3352",
   "metadata": {},
   "outputs": [
    {
     "data": {
      "text/plain": [
       "1"
      ]
     },
     "execution_count": 183,
     "metadata": {},
     "output_type": "execute_result"
    }
   ],
   "source": [
    "counts_one.pop()"
   ]
  },
  {
   "cell_type": "code",
   "execution_count": 187,
   "id": "76524e1d",
   "metadata": {},
   "outputs": [],
   "source": [
    "counts_one.append(1)"
   ]
  },
  {
   "cell_type": "code",
   "execution_count": 200,
   "id": "cac3d1a3",
   "metadata": {},
   "outputs": [
    {
     "name": "stdout",
     "output_type": "stream",
     "text": [
      "Pearsons correlation: 0.739\n"
     ]
    }
   ],
   "source": [
    "# calculate the Pearson's correlation between two variables\n",
    "from numpy.random import randn\n",
    "from numpy.random import seed\n",
    "from scipy.stats import pearsonr\n",
    "# seed random number generator\n",
    "seed(1)\n",
    "# prepare data\n",
    "data1 = forgetting_counts_two\n",
    "data2 = forgetting_counts_three\n",
    "# calculate Pearson's correlation\n",
    "corr, _ = pearsonr(data1, data2)\n",
    "print('Pearsons correlation: %.3f' % corr)"
   ]
  },
  {
   "cell_type": "code",
   "execution_count": 196,
   "id": "110713ba",
   "metadata": {},
   "outputs": [
    {
     "ename": "NameError",
     "evalue": "name 'large_forgetting_counts' is not defined",
     "output_type": "error",
     "traceback": [
      "\u001b[0;31m---------------------------------------------------------------------------\u001b[0m",
      "\u001b[0;31mNameError\u001b[0m                                 Traceback (most recent call last)",
      "\u001b[0;32m<ipython-input-196-5d9ec885c1a4>\u001b[0m in \u001b[0;36m<module>\u001b[0;34m\u001b[0m\n\u001b[0;32m----> 1\u001b[0;31m \u001b[0mlarge_forgetting_counts\u001b[0m\u001b[0;34m\u001b[0m\u001b[0;34m\u001b[0m\u001b[0m\n\u001b[0m",
      "\u001b[0;31mNameError\u001b[0m: name 'large_forgetting_counts' is not defined"
     ]
    }
   ],
   "source": [
    "large_forgetting_counts"
   ]
  },
  {
   "cell_type": "code",
   "execution_count": 282,
   "id": "7292a61c",
   "metadata": {},
   "outputs": [],
   "source": [
    "import pickle\n",
    "with open('cifar10_sorted_fulldata.pkl', 'rb') as f:\n",
    "    forget = pickle.load(f)"
   ]
  },
  {
   "cell_type": "code",
   "execution_count": 283,
   "id": "0182bde3",
   "metadata": {},
   "outputs": [
    {
     "data": {
      "text/plain": [
       "{'indices': array([10538, 32125, 40142, ..., 32791, 18470, 47111]),\n",
       " 'forgetting counts': array([ 0,  0,  0, ..., 34, 34, 34])}"
      ]
     },
     "execution_count": 283,
     "metadata": {},
     "output_type": "execute_result"
    }
   ],
   "source": [
    "forget"
   ]
  },
  {
   "cell_type": "code",
   "execution_count": 287,
   "id": "20e88c6f",
   "metadata": {},
   "outputs": [],
   "source": [
    "forget_forgetting_counts_sorted = forget['forgetting counts'][forget['indices'].argsort()]\n",
    "forget_indsorted = sorted(forget['indices'])"
   ]
  },
  {
   "cell_type": "code",
   "execution_count": 296,
   "id": "9ae82133",
   "metadata": {},
   "outputs": [],
   "source": [
    "import pandas as pd\n",
    "\n",
    "d = pd.DataFrame()"
   ]
  },
  {
   "cell_type": "code",
   "execution_count": 297,
   "id": "bb98cd0e",
   "metadata": {},
   "outputs": [],
   "source": [
    "d['forget'] = forget_forgetting_counts_sorted \n",
    "d['85'] = forgetting_counts_three\n",
    "d['90'] = forgetting_counts_four\n",
    "d['95'] = forgetting_counts_five\n",
    "d['98'] = forgetting_counts_two\n",
    "d['99.5'] = forgetting_counts_one\n"
   ]
  },
  {
   "cell_type": "code",
   "execution_count": 298,
   "id": "02c2b8e4",
   "metadata": {},
   "outputs": [
    {
     "data": {
      "text/html": [
       "<div>\n",
       "<style scoped>\n",
       "    .dataframe tbody tr th:only-of-type {\n",
       "        vertical-align: middle;\n",
       "    }\n",
       "\n",
       "    .dataframe tbody tr th {\n",
       "        vertical-align: top;\n",
       "    }\n",
       "\n",
       "    .dataframe thead th {\n",
       "        text-align: right;\n",
       "    }\n",
       "</style>\n",
       "<table border=\"1\" class=\"dataframe\">\n",
       "  <thead>\n",
       "    <tr style=\"text-align: right;\">\n",
       "      <th></th>\n",
       "      <th>forget</th>\n",
       "      <th>85</th>\n",
       "      <th>90</th>\n",
       "      <th>95</th>\n",
       "      <th>98</th>\n",
       "      <th>99.5</th>\n",
       "    </tr>\n",
       "  </thead>\n",
       "  <tbody>\n",
       "    <tr>\n",
       "      <th>0</th>\n",
       "      <td>3</td>\n",
       "      <td>4.0</td>\n",
       "      <td>6.0</td>\n",
       "      <td>3.0</td>\n",
       "      <td>8.0</td>\n",
       "      <td>32.0</td>\n",
       "    </tr>\n",
       "    <tr>\n",
       "      <th>1</th>\n",
       "      <td>1</td>\n",
       "      <td>0.0</td>\n",
       "      <td>1.0</td>\n",
       "      <td>0.0</td>\n",
       "      <td>0.0</td>\n",
       "      <td>1.0</td>\n",
       "    </tr>\n",
       "    <tr>\n",
       "      <th>2</th>\n",
       "      <td>4</td>\n",
       "      <td>3.0</td>\n",
       "      <td>6.0</td>\n",
       "      <td>3.0</td>\n",
       "      <td>4.0</td>\n",
       "      <td>25.0</td>\n",
       "    </tr>\n",
       "    <tr>\n",
       "      <th>3</th>\n",
       "      <td>1</td>\n",
       "      <td>0.0</td>\n",
       "      <td>0.0</td>\n",
       "      <td>0.0</td>\n",
       "      <td>0.0</td>\n",
       "      <td>2.0</td>\n",
       "    </tr>\n",
       "    <tr>\n",
       "      <th>4</th>\n",
       "      <td>0</td>\n",
       "      <td>0.0</td>\n",
       "      <td>0.0</td>\n",
       "      <td>0.0</td>\n",
       "      <td>0.0</td>\n",
       "      <td>2.0</td>\n",
       "    </tr>\n",
       "    <tr>\n",
       "      <th>...</th>\n",
       "      <td>...</td>\n",
       "      <td>...</td>\n",
       "      <td>...</td>\n",
       "      <td>...</td>\n",
       "      <td>...</td>\n",
       "      <td>...</td>\n",
       "    </tr>\n",
       "    <tr>\n",
       "      <th>49995</th>\n",
       "      <td>15</td>\n",
       "      <td>12.0</td>\n",
       "      <td>9.0</td>\n",
       "      <td>8.0</td>\n",
       "      <td>14.0</td>\n",
       "      <td>0.0</td>\n",
       "    </tr>\n",
       "    <tr>\n",
       "      <th>49996</th>\n",
       "      <td>25</td>\n",
       "      <td>31.0</td>\n",
       "      <td>34.0</td>\n",
       "      <td>36.0</td>\n",
       "      <td>28.0</td>\n",
       "      <td>37.0</td>\n",
       "    </tr>\n",
       "    <tr>\n",
       "      <th>49997</th>\n",
       "      <td>14</td>\n",
       "      <td>19.0</td>\n",
       "      <td>16.0</td>\n",
       "      <td>26.0</td>\n",
       "      <td>29.0</td>\n",
       "      <td>44.0</td>\n",
       "    </tr>\n",
       "    <tr>\n",
       "      <th>49998</th>\n",
       "      <td>0</td>\n",
       "      <td>0.0</td>\n",
       "      <td>0.0</td>\n",
       "      <td>0.0</td>\n",
       "      <td>2.0</td>\n",
       "      <td>2.0</td>\n",
       "    </tr>\n",
       "    <tr>\n",
       "      <th>49999</th>\n",
       "      <td>16</td>\n",
       "      <td>20.0</td>\n",
       "      <td>19.0</td>\n",
       "      <td>43.0</td>\n",
       "      <td>45.0</td>\n",
       "      <td>48.0</td>\n",
       "    </tr>\n",
       "  </tbody>\n",
       "</table>\n",
       "<p>50000 rows × 6 columns</p>\n",
       "</div>"
      ],
      "text/plain": [
       "       forget    85    90    95    98  99.5\n",
       "0           3   4.0   6.0   3.0   8.0  32.0\n",
       "1           1   0.0   1.0   0.0   0.0   1.0\n",
       "2           4   3.0   6.0   3.0   4.0  25.0\n",
       "3           1   0.0   0.0   0.0   0.0   2.0\n",
       "4           0   0.0   0.0   0.0   0.0   2.0\n",
       "...       ...   ...   ...   ...   ...   ...\n",
       "49995      15  12.0   9.0   8.0  14.0   0.0\n",
       "49996      25  31.0  34.0  36.0  28.0  37.0\n",
       "49997      14  19.0  16.0  26.0  29.0  44.0\n",
       "49998       0   0.0   0.0   0.0   2.0   2.0\n",
       "49999      16  20.0  19.0  43.0  45.0  48.0\n",
       "\n",
       "[50000 rows x 6 columns]"
      ]
     },
     "execution_count": 298,
     "metadata": {},
     "output_type": "execute_result"
    }
   ],
   "source": [
    "d"
   ]
  },
  {
   "cell_type": "code",
   "execution_count": 292,
   "id": "c333b584",
   "metadata": {},
   "outputs": [
    {
     "data": {
      "text/plain": [
       "12.16066"
      ]
     },
     "execution_count": 292,
     "metadata": {},
     "output_type": "execute_result"
    }
   ],
   "source": [
    "from sklearn.metrics import mean_squared_error\n",
    "\n",
    "mean_squared_error(d['forget'],d['85'])"
   ]
  },
  {
   "cell_type": "code",
   "execution_count": 293,
   "id": "370a4d83",
   "metadata": {},
   "outputs": [
    {
     "data": {
      "text/plain": [
       "0.8978060087344232"
      ]
     },
     "execution_count": 293,
     "metadata": {},
     "output_type": "execute_result"
    }
   ],
   "source": [
    "d['85'].corr(d['forget'])"
   ]
  },
  {
   "cell_type": "code",
   "execution_count": 299,
   "id": "5015cbfc",
   "metadata": {},
   "outputs": [
    {
     "data": {
      "text/html": [
       "<div>\n",
       "<style scoped>\n",
       "    .dataframe tbody tr th:only-of-type {\n",
       "        vertical-align: middle;\n",
       "    }\n",
       "\n",
       "    .dataframe tbody tr th {\n",
       "        vertical-align: top;\n",
       "    }\n",
       "\n",
       "    .dataframe thead th {\n",
       "        text-align: right;\n",
       "    }\n",
       "</style>\n",
       "<table border=\"1\" class=\"dataframe\">\n",
       "  <thead>\n",
       "    <tr style=\"text-align: right;\">\n",
       "      <th></th>\n",
       "      <th>forget</th>\n",
       "      <th>85</th>\n",
       "      <th>90</th>\n",
       "      <th>95</th>\n",
       "      <th>98</th>\n",
       "      <th>99.5</th>\n",
       "    </tr>\n",
       "  </thead>\n",
       "  <tbody>\n",
       "    <tr>\n",
       "      <th>forget</th>\n",
       "      <td>1.000000</td>\n",
       "      <td>0.897806</td>\n",
       "      <td>0.896837</td>\n",
       "      <td>0.884346</td>\n",
       "      <td>0.806321</td>\n",
       "      <td>0.476671</td>\n",
       "    </tr>\n",
       "    <tr>\n",
       "      <th>85</th>\n",
       "      <td>0.897806</td>\n",
       "      <td>1.000000</td>\n",
       "      <td>0.908550</td>\n",
       "      <td>0.896195</td>\n",
       "      <td>0.806985</td>\n",
       "      <td>0.440698</td>\n",
       "    </tr>\n",
       "    <tr>\n",
       "      <th>90</th>\n",
       "      <td>0.896837</td>\n",
       "      <td>0.908550</td>\n",
       "      <td>1.000000</td>\n",
       "      <td>0.900464</td>\n",
       "      <td>0.821678</td>\n",
       "      <td>0.454147</td>\n",
       "    </tr>\n",
       "    <tr>\n",
       "      <th>95</th>\n",
       "      <td>0.884346</td>\n",
       "      <td>0.896195</td>\n",
       "      <td>0.900464</td>\n",
       "      <td>1.000000</td>\n",
       "      <td>0.838281</td>\n",
       "      <td>0.479025</td>\n",
       "    </tr>\n",
       "    <tr>\n",
       "      <th>98</th>\n",
       "      <td>0.806321</td>\n",
       "      <td>0.806985</td>\n",
       "      <td>0.821678</td>\n",
       "      <td>0.838281</td>\n",
       "      <td>1.000000</td>\n",
       "      <td>0.577731</td>\n",
       "    </tr>\n",
       "    <tr>\n",
       "      <th>99.5</th>\n",
       "      <td>0.476671</td>\n",
       "      <td>0.440698</td>\n",
       "      <td>0.454147</td>\n",
       "      <td>0.479025</td>\n",
       "      <td>0.577731</td>\n",
       "      <td>1.000000</td>\n",
       "    </tr>\n",
       "  </tbody>\n",
       "</table>\n",
       "</div>"
      ],
      "text/plain": [
       "          forget        85        90        95        98      99.5\n",
       "forget  1.000000  0.897806  0.896837  0.884346  0.806321  0.476671\n",
       "85      0.897806  1.000000  0.908550  0.896195  0.806985  0.440698\n",
       "90      0.896837  0.908550  1.000000  0.900464  0.821678  0.454147\n",
       "95      0.884346  0.896195  0.900464  1.000000  0.838281  0.479025\n",
       "98      0.806321  0.806985  0.821678  0.838281  1.000000  0.577731\n",
       "99.5    0.476671  0.440698  0.454147  0.479025  0.577731  1.000000"
      ]
     },
     "execution_count": 299,
     "metadata": {},
     "output_type": "execute_result"
    }
   ],
   "source": [
    "d.corr()"
   ]
  },
  {
   "cell_type": "code",
   "execution_count": 326,
   "id": "294bd310",
   "metadata": {},
   "outputs": [],
   "source": [
    "a=d.loc[d['forget'] == 30]"
   ]
  },
  {
   "cell_type": "code",
   "execution_count": 328,
   "id": "d600914b",
   "metadata": {},
   "outputs": [
    {
     "name": "stdout",
     "output_type": "stream",
     "text": [
      "38\n"
     ]
    }
   ],
   "source": [
    "print(len(a))"
   ]
  },
  {
   "cell_type": "code",
   "execution_count": 334,
   "id": "28718dfe",
   "metadata": {},
   "outputs": [
    {
     "data": {
      "text/plain": [
       "forget    30.000000\n",
       "85        26.394737\n",
       "90        29.394737\n",
       "95        35.157895\n",
       "98        37.368421\n",
       "99.5      32.289474\n",
       "dtype: float64"
      ]
     },
     "execution_count": 334,
     "metadata": {},
     "output_type": "execute_result"
    }
   ],
   "source": [
    "s = a.sum(axis=0)/len(a)\n",
    "\n",
    "s"
   ]
  },
  {
   "cell_type": "code",
   "execution_count": 361,
   "id": "42eb2e27",
   "metadata": {},
   "outputs": [],
   "source": [
    "def get_avg_forgettability(value):\n",
    "    a=d.loc[d['forget'] == value]\n",
    "    s = a.sum(axis=0)/len(a)\n",
    "    return(s[1:])"
   ]
  },
  {
   "cell_type": "code",
   "execution_count": 366,
   "id": "7e9e45a3",
   "metadata": {},
   "outputs": [],
   "source": [
    "def get_avg_forgettability(value):\n",
    "    a=d.loc[ (d['forget'] >= value) & (d['forget'] < value + 5) ]\n",
    "    s = a.sum(axis=0)/len(a)\n",
    "    return(s[1:])"
   ]
  },
  {
   "cell_type": "code",
   "execution_count": 370,
   "id": "79723757",
   "metadata": {},
   "outputs": [
    {
     "data": {
      "image/png": "[encoded data removed]",
      "text/plain": [
       "<Figure size 576x288 with 1 Axes>"
      ]
     },
     "metadata": {
      "needs_background": "light"
     },
     "output_type": "display_data"
    }
   ],
   "source": [
    "import matplotlib.pyplot as plt\n",
    "\n",
    "plt.rcParams[\"figure.figsize\"] = (8, 4)\n",
    "\n",
    "for i in [0, 5, 10 , 15, 20, 25]:\n",
    "    plt.plot(['85', '90', '95', '98', '99.5'], get_avg_forgettability(i), label=str(i) + \"-\" + str(i+5))\n",
    "\n",
    "\n",
    "plt.legend(loc='upper left')\n",
    "plt.xlabel(\"model sparsity\")\n",
    "plt.ylabel(\"average forgettability\")\n",
    "plt.title(\"Average Forgettability of Sparsity Models by Forgettability Range\")\n",
    "plt.savefig(\"eight.jpeg\")\n",
    "\n",
    "\n",
    "plt.show()"
   ]
  },
  {
   "cell_type": "code",
   "execution_count": 363,
   "id": "2db61e6b",
   "metadata": {},
   "outputs": [
    {
     "data": {
      "text/plain": [
       "34"
      ]
     },
     "execution_count": 363,
     "metadata": {},
     "output_type": "execute_result"
    }
   ],
   "source": [
    "max(d['forget'])"
   ]
  },
  {
   "cell_type": "code",
   "execution_count": null,
   "id": "a5d7bd86",
   "metadata": {},
   "outputs": [],
   "source": []
  }
 ],
 "metadata": {
  "kernelspec": {
   "display_name": "Python 3",
   "language": "python",
   "name": "python3"
  },
  "language_info": {
   "codemirror_mode": {
    "name": "ipython",
    "version": 3
   },
   "file_extension": ".py",
   "mimetype": "text/x-python",
   "name": "python",
   "nbconvert_exporter": "python",
   "pygments_lexer": "ipython3",
   "version": "3.7.9"
  }
 },
 "nbformat": 4,
 "nbformat_minor": 5
}
